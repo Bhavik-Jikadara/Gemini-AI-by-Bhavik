{
 "cells": [
  {
   "cell_type": "markdown",
   "id": "ec402f78",
   "metadata": {
    "papermill": {
     "duration": 0.004696,
     "end_time": "2023-12-18T15:44:35.514118",
     "exception": false,
     "start_time": "2023-12-18T15:44:35.509422",
     "status": "completed"
    },
    "tags": []
   },
   "source": [
    "## Import necessary libraries"
   ]
  },
  {
   "cell_type": "code",
   "execution_count": 1,
   "id": "f2bb5ab5",
   "metadata": {
    "papermill": {
     "duration": 0.43839,
     "end_time": "2023-12-18T15:44:35.957362",
     "exception": false,
     "start_time": "2023-12-18T15:44:35.518972",
     "status": "completed"
    },
    "tags": []
   },
   "outputs": [
    {
     "name": "stderr",
     "output_type": "stream",
     "text": [
      "e:\\Data Science\\Project\\Generative AI\\Gemini AI\\venv\\Lib\\site-packages\\tqdm\\auto.py:21: TqdmWarning: IProgress not found. Please update jupyter and ipywidgets. See https://ipywidgets.readthedocs.io/en/stable/user_install.html\n",
      "  from .autonotebook import tqdm as notebook_tqdm\n"
     ]
    }
   ],
   "source": [
    "import textwrap\n",
    "\n",
    "import google.generativeai as genai\n",
    "\n",
    "from IPython.display import display\n",
    "from IPython.display import Markdown"
   ]
  },
  {
   "cell_type": "code",
   "execution_count": 2,
   "id": "4c1be336",
   "metadata": {},
   "outputs": [],
   "source": [
    "def to_markdown(text):\n",
    "  text = text.replace('•', '  *')\n",
    "  return Markdown(textwrap.indent(text, '> ', predicate=lambda _: True))"
   ]
  },
  {
   "cell_type": "markdown",
   "id": "74f27cd0",
   "metadata": {
    "papermill": {
     "duration": 0.004627,
     "end_time": "2023-12-18T15:44:35.966923",
     "exception": false,
     "start_time": "2023-12-18T15:44:35.962296",
     "status": "completed"
    },
    "tags": []
   },
   "source": [
    "## Setup your API key\n",
    "\n",
    "Before you can use the Gemini API, you must first obtain an API key. If you don't already have one, create a key with one click in Google AI Studio.\n",
    "\n",
    "<a class=\"button button-primary\" href=\"https://makersuite.google.com/app/apikey\" target=\"_blank\" rel=\"noopener noreferrer\">Get an API key</a>\n",
    "\n",
    "Once you have the API key, pass it to the SDK. You can do this in two ways:\n",
    "\n",
    "* Put the key in the `GOOGLE_API_KEY` environment variable (the SDK will automatically pick it up from there).\n",
    "* Pass the key to `genai.configure(api_key=...)`"
   ]
  },
  {
   "cell_type": "code",
   "execution_count": 3,
   "id": "c00fe3e8",
   "metadata": {
    "papermill": {
     "duration": 0.013552,
     "end_time": "2023-12-18T15:44:35.985276",
     "exception": false,
     "start_time": "2023-12-18T15:44:35.971724",
     "status": "completed"
    },
    "tags": []
   },
   "outputs": [],
   "source": [
    "import warnings, os\n",
    "from dotenv import load_dotenv\n",
    "load_dotenv()\n",
    "warnings.filterwarnings(\"ignore\")\n",
    "genai.configure(\n",
    "    # Put the key in the GOOGLE_API_KEY\n",
    "    api_key=os.getenv(\"GOOGLE_API_KEY\")\n",
    ")"
   ]
  },
  {
   "cell_type": "markdown",
   "id": "e4d36e59",
   "metadata": {
    "papermill": {
     "duration": 0.004553,
     "end_time": "2023-12-18T15:44:35.994648",
     "exception": false,
     "start_time": "2023-12-18T15:44:35.990095",
     "status": "completed"
    },
    "tags": []
   },
   "source": [
    "## List of Models\n",
    "Now you're ready to call the Gemini API. Use `list_models` to see the available Gemini models:\n",
    "\n",
    "* `gemini-pro`: optimized for text-only prompts.\n",
    "* `gemini-pro-vision`: optimized for text-and-images prompts."
   ]
  },
  {
   "cell_type": "code",
   "execution_count": 4,
   "id": "e0b53f74",
   "metadata": {
    "papermill": {
     "duration": 0.951652,
     "end_time": "2023-12-18T15:44:36.951152",
     "exception": false,
     "start_time": "2023-12-18T15:44:35.999500",
     "status": "completed"
    },
    "tags": []
   },
   "outputs": [
    {
     "name": "stdout",
     "output_type": "stream",
     "text": [
      "models/gemini-1.0-pro\n",
      "models/gemini-1.0-pro-001\n",
      "models/gemini-1.0-pro-latest\n",
      "models/gemini-1.0-pro-vision-latest\n",
      "models/gemini-pro\n",
      "models/gemini-pro-vision\n"
     ]
    }
   ],
   "source": [
    "for model in genai.list_models():\n",
    "    if 'generateContent' in model.supported_generation_methods:\n",
    "        print(model.name)"
   ]
  },
  {
   "cell_type": "markdown",
   "id": "998a4a13",
   "metadata": {
    "papermill": {
     "duration": 0.00471,
     "end_time": "2023-12-18T15:44:36.961201",
     "exception": false,
     "start_time": "2023-12-18T15:44:36.956491",
     "status": "completed"
    },
    "tags": []
   },
   "source": [
    "# Generate text from text inputs\n",
    "For text-only prompts, use the `gemini-pro` model:"
   ]
  },
  {
   "cell_type": "code",
   "execution_count": 5,
   "id": "d1e0d2d6",
   "metadata": {
    "papermill": {
     "duration": 0.012316,
     "end_time": "2023-12-18T15:44:36.978314",
     "exception": false,
     "start_time": "2023-12-18T15:44:36.965998",
     "status": "completed"
    },
    "tags": []
   },
   "outputs": [],
   "source": [
    "model = genai.GenerativeModel(\n",
    "    model_name='gemini-1.0-pro-latest'\n",
    ")"
   ]
  },
  {
   "cell_type": "markdown",
   "id": "4833ef13",
   "metadata": {
    "papermill": {
     "duration": 0.004648,
     "end_time": "2023-12-18T15:44:36.987861",
     "exception": false,
     "start_time": "2023-12-18T15:44:36.983213",
     "status": "completed"
    },
    "tags": []
   },
   "source": [
    "* The `generate_content` method can handle a wide variety of use cases, including multi-turn chat and multimodal input, depending on what the underlying model supports. The available models only support text and images as input, and text as output.\n",
    "\n",
    "In the simplest case, you can pass a prompt string to the `GenerativeModel.generate_content` method:"
   ]
  },
  {
   "cell_type": "code",
   "execution_count": 6,
   "id": "41759230",
   "metadata": {
    "papermill": {
     "duration": 7.672275,
     "end_time": "2023-12-18T15:44:44.664890",
     "exception": false,
     "start_time": "2023-12-18T15:44:36.992615",
     "status": "completed"
    },
    "tags": []
   },
   "outputs": [],
   "source": [
    "response = model.generate_content(\"Create a list of key questions to ask a doctor about a specific medical condition.\")"
   ]
  },
  {
   "cell_type": "markdown",
   "id": "8e6ee4be",
   "metadata": {
    "papermill": {
     "duration": 0.004867,
     "end_time": "2023-12-18T15:44:44.674918",
     "exception": false,
     "start_time": "2023-12-18T15:44:44.670051",
     "status": "completed"
    },
    "tags": []
   },
   "source": [
    "* In simple cases, the `response.text` accessor is all you need. To display formatted Markdown text, use the `to_markdown` function:"
   ]
  },
  {
   "cell_type": "code",
   "execution_count": 7,
   "id": "771d83c0",
   "metadata": {
    "execution": {
     "iopub.execute_input": "2023-12-18T15:44:44.687530Z",
     "iopub.status.busy": "2023-12-18T15:44:44.686333Z",
     "iopub.status.idle": "2023-12-18T15:44:44.694777Z",
     "shell.execute_reply": "2023-12-18T15:44:44.693742Z"
    },
    "papermill": {
     "duration": 0.016722,
     "end_time": "2023-12-18T15:44:44.696810",
     "exception": false,
     "start_time": "2023-12-18T15:44:44.680088",
     "status": "completed"
    },
    "tags": []
   },
   "outputs": [
    {
     "data": {
      "text/markdown": [
       "> **General Questions:**\n",
       "> \n",
       "> * What is the diagnosis and what does it mean for me?\n",
       "> * What are the symptoms and how long have I had them?\n",
       "> * What are the potential causes of this condition?\n",
       "> * What are the treatment options available?\n",
       "> * What are the risks and benefits of each treatment option?\n",
       "> * How long will treatment take and what are the expected outcomes?\n",
       "> * What lifestyle changes can I make to manage this condition?\n",
       "> \n",
       "> **Specific Questions Related to the Medical Condition:**\n",
       "> \n",
       "> * What are the specific symptoms I should watch out for?\n",
       "> * What are the most common complications associated with this condition?\n",
       "> * How often will I need to see a doctor for follow-up appointments?\n",
       "> * What tests will I need to undergo for diagnosis and monitoring?\n",
       "> * What medications will I need to take and how often?\n",
       "> * What side effects should I expect from the medication?\n",
       "> * Is there a support group or other resources for people with this condition?\n",
       "> * What are the long-term implications of this condition for my health?\n",
       "> * Are there any alternative or complementary therapies that may help manage this condition?\n",
       "> \n",
       "> **Other Questions:**\n",
       "> \n",
       "> * What are the potential costs involved in treating this condition?\n",
       "> * Are there any clinical trials or research studies available for this condition?\n",
       "> * What are the potential effects of this condition on my work, social life, or relationships?\n",
       "> * What are the overall goals of treatment and what realistic outcomes can I expect?\n",
       "> * Do you have any written materials or resources that I can refer to for more information?"
      ],
      "text/plain": [
       "<IPython.core.display.Markdown object>"
      ]
     },
     "execution_count": 7,
     "metadata": {},
     "output_type": "execute_result"
    }
   ],
   "source": [
    "to_markdown(response.text)"
   ]
  },
  {
   "cell_type": "markdown",
   "id": "f1d6a9c4",
   "metadata": {
    "papermill": {
     "duration": 0.004887,
     "end_time": "2023-12-18T15:44:44.706834",
     "exception": false,
     "start_time": "2023-12-18T15:44:44.701947",
     "status": "completed"
    },
    "tags": []
   },
   "source": [
    "* If the API failed to return a result, use `GenerateContentRespose.prompt_feedback` to see if it was blocked due to saftey concerns regarding the prompt."
   ]
  },
  {
   "cell_type": "code",
   "execution_count": 8,
   "id": "42937ed5",
   "metadata": {
    "execution": {
     "iopub.execute_input": "2023-12-18T15:44:44.718902Z",
     "iopub.status.busy": "2023-12-18T15:44:44.718197Z",
     "iopub.status.idle": "2023-12-18T15:44:44.725041Z",
     "shell.execute_reply": "2023-12-18T15:44:44.723988Z"
    },
    "papermill": {
     "duration": 0.015037,
     "end_time": "2023-12-18T15:44:44.727006",
     "exception": false,
     "start_time": "2023-12-18T15:44:44.711969",
     "status": "completed"
    },
    "tags": []
   },
   "outputs": [
    {
     "data": {
      "text/plain": [
       "safety_ratings {\n",
       "  category: HARM_CATEGORY_SEXUALLY_EXPLICIT\n",
       "  probability: NEGLIGIBLE\n",
       "}\n",
       "safety_ratings {\n",
       "  category: HARM_CATEGORY_HATE_SPEECH\n",
       "  probability: NEGLIGIBLE\n",
       "}\n",
       "safety_ratings {\n",
       "  category: HARM_CATEGORY_HARASSMENT\n",
       "  probability: NEGLIGIBLE\n",
       "}\n",
       "safety_ratings {\n",
       "  category: HARM_CATEGORY_DANGEROUS_CONTENT\n",
       "  probability: NEGLIGIBLE\n",
       "}"
      ]
     },
     "execution_count": 8,
     "metadata": {},
     "output_type": "execute_result"
    }
   ],
   "source": [
    "response.prompt_feedback"
   ]
  },
  {
   "cell_type": "markdown",
   "id": "91dd84e0",
   "metadata": {
    "papermill": {
     "duration": 0.004868,
     "end_time": "2023-12-18T15:44:44.737238",
     "exception": false,
     "start_time": "2023-12-18T15:44:44.732370",
     "status": "completed"
    },
    "tags": []
   },
   "source": [
    "* **Gemini can generate multiple possible responses for a single prompt**. These possible responses are called `candidates`, and you can review them to select the most suitable one as the response.\n",
    "\n",
    "View the response candidates with `GenerateContentResponse.candidates`:"
   ]
  },
  {
   "cell_type": "code",
   "execution_count": 9,
   "id": "34ea2e9e",
   "metadata": {
    "execution": {
     "iopub.execute_input": "2023-12-18T15:44:44.749405Z",
     "iopub.status.busy": "2023-12-18T15:44:44.748684Z",
     "iopub.status.idle": "2023-12-18T15:44:44.754783Z",
     "shell.execute_reply": "2023-12-18T15:44:44.753817Z"
    },
    "papermill": {
     "duration": 0.014576,
     "end_time": "2023-12-18T15:44:44.756838",
     "exception": false,
     "start_time": "2023-12-18T15:44:44.742262",
     "status": "completed"
    },
    "tags": []
   },
   "outputs": [
    {
     "data": {
      "text/plain": [
       "[index: 0\n",
       "content {\n",
       "  parts {\n",
       "    text: \"**General Questions:**\\n\\n* What is the diagnosis and what does it mean for me?\\n* What are the symptoms and how long have I had them?\\n* What are the potential causes of this condition?\\n* What are the treatment options available?\\n* What are the risks and benefits of each treatment option?\\n* How long will treatment take and what are the expected outcomes?\\n* What lifestyle changes can I make to manage this condition?\\n\\n**Specific Questions Related to the Medical Condition:**\\n\\n* What are the specific symptoms I should watch out for?\\n* What are the most common complications associated with this condition?\\n* How often will I need to see a doctor for follow-up appointments?\\n* What tests will I need to undergo for diagnosis and monitoring?\\n* What medications will I need to take and how often?\\n* What side effects should I expect from the medication?\\n* Is there a support group or other resources for people with this condition?\\n* What are the long-term implications of this condition for my health?\\n* Are there any alternative or complementary therapies that may help manage this condition?\\n\\n**Other Questions:**\\n\\n* What are the potential costs involved in treating this condition?\\n* Are there any clinical trials or research studies available for this condition?\\n* What are the potential effects of this condition on my work, social life, or relationships?\\n* What are the overall goals of treatment and what realistic outcomes can I expect?\\n* Do you have any written materials or resources that I can refer to for more information?\"\n",
       "  }\n",
       "  role: \"model\"\n",
       "}\n",
       "finish_reason: STOP\n",
       "safety_ratings {\n",
       "  category: HARM_CATEGORY_SEXUALLY_EXPLICIT\n",
       "  probability: NEGLIGIBLE\n",
       "}\n",
       "safety_ratings {\n",
       "  category: HARM_CATEGORY_HATE_SPEECH\n",
       "  probability: NEGLIGIBLE\n",
       "}\n",
       "safety_ratings {\n",
       "  category: HARM_CATEGORY_HARASSMENT\n",
       "  probability: NEGLIGIBLE\n",
       "}\n",
       "safety_ratings {\n",
       "  category: HARM_CATEGORY_DANGEROUS_CONTENT\n",
       "  probability: NEGLIGIBLE\n",
       "}\n",
       "]"
      ]
     },
     "execution_count": 9,
     "metadata": {},
     "output_type": "execute_result"
    }
   ],
   "source": [
    "response.candidates"
   ]
  },
  {
   "cell_type": "markdown",
   "id": "2991c51c",
   "metadata": {
    "papermill": {
     "duration": 0.005616,
     "end_time": "2023-12-18T15:44:44.769113",
     "exception": false,
     "start_time": "2023-12-18T15:44:44.763497",
     "status": "completed"
    },
    "tags": []
   },
   "source": [
    "### Google Generative AI Documentation\n",
    "* These are the source files for the guide and tutorials on the [Generative AI developer site.](https://ai.google.dev/)"
   ]
  }
 ],
 "metadata": {
  "kaggle": {
   "accelerator": "none",
   "dataSources": [
    {
     "datasetId": 4187059,
     "sourceId": 7231333,
     "sourceType": "datasetVersion"
    }
   ],
   "dockerImageVersionId": 30626,
   "isGpuEnabled": false,
   "isInternetEnabled": true,
   "language": "python",
   "sourceType": "notebook"
  },
  "kernelspec": {
   "display_name": "Python 3 (ipykernel)",
   "language": "python",
   "name": "python3"
  },
  "language_info": {
   "codemirror_mode": {
    "name": "ipython",
    "version": 3
   },
   "file_extension": ".py",
   "mimetype": "text/x-python",
   "name": "python",
   "nbconvert_exporter": "python",
   "pygments_lexer": "ipython3",
   "version": "3.11.8"
  },
  "papermill": {
   "default_parameters": {},
   "duration": 38.799646,
   "end_time": "2023-12-18T15:44:45.406997",
   "environment_variables": {},
   "exception": null,
   "input_path": "__notebook__.ipynb",
   "output_path": "__notebook__.ipynb",
   "parameters": {},
   "start_time": "2023-12-18T15:44:06.607351",
   "version": "2.4.0"
  },
  "widgets": {
   "application/vnd.jupyter.widget-state+json": {
    "state": {},
    "version_major": 2,
    "version_minor": 0
   }
  }
 },
 "nbformat": 4,
 "nbformat_minor": 5
}
